{
 "cells": [
  {
   "cell_type": "code",
   "execution_count": 1,
   "metadata": {},
   "outputs": [],
   "source": [
    "import random"
   ]
  },
  {
   "cell_type": "code",
   "execution_count": 24,
   "metadata": {},
   "outputs": [
    {
     "name": "stdout",
     "output_type": "stream",
     "text": [
      "Los datos ingresados no tienen sentido para el algoritmo DES, ingrese nuevos datos\n"
     ]
    },
    {
     "ename": "ValueError",
     "evalue": "invalid literal for int() with base 10: ''",
     "output_type": "error",
     "traceback": [
      "\u001b[0;31m---------------------------------------------------------------------------\u001b[0m",
      "\u001b[0;31mValueError\u001b[0m                                Traceback (most recent call last)",
      "Cell \u001b[0;32mIn [24], line 4\u001b[0m\n\u001b[1;32m      1\u001b[0m inputviable\u001b[39m=\u001b[39m\u001b[39m0\u001b[39m\n\u001b[1;32m      3\u001b[0m \u001b[39mwhile\u001b[39;00m inputviable\u001b[39m==\u001b[39m\u001b[39m0\u001b[39m: \n\u001b[0;32m----> 4\u001b[0m     bloquept \u001b[39m=\u001b[39m \u001b[39mint\u001b[39;49m(\u001b[39minput\u001b[39;49m(\u001b[39m'\u001b[39;49m\u001b[39mIngrese el largo del bloque de texto plano: \u001b[39;49m\u001b[39m'\u001b[39;49m))\n\u001b[1;32m      5\u001b[0m     tamaniollave \u001b[39m=\u001b[39m \u001b[39mint\u001b[39m(\u001b[39minput\u001b[39m(\u001b[39m'\u001b[39m\u001b[39mIngrese el largo de la llave a utilizar: \u001b[39m\u001b[39m'\u001b[39m))\n\u001b[1;32m      6\u001b[0m     tamaniosubllave \u001b[39m=\u001b[39m \u001b[39mint\u001b[39m(\u001b[39minput\u001b[39m(\u001b[39m'\u001b[39m\u001b[39mIngrese el largo de la sub llave a utilizar\u001b[39m\u001b[39m'\u001b[39m))\n",
      "\u001b[0;31mValueError\u001b[0m: invalid literal for int() with base 10: ''"
     ]
    }
   ],
   "source": [
    "inputviable=0\n",
    "\n",
    "while inputviable==0: \n",
    "    bloquept = int(input('Ingrese el largo del bloque de texto plano: '))\n",
    "    tamaniollave = int(input('Ingrese el largo de la llave a utilizar: '))\n",
    "    tamaniosubllave = int(input('Ingrese el largo de la sub llave a utilizar'))\n",
    "    cantSbox = int(input('Ingrese cantidad de S-box a usar: '))\n",
    "    if (bloquept>=tamaniosubllave) and (tamaniollave>tamaniosubllave) and (cantSbox>0) and (tamaniosubllave>(bloquept/2) and ((bloquept/2)%cantSbox==0) and (tamaniosubllave%cantSbox==0)):\n",
    "        inputviable=1\n",
    "    else:\n",
    "        print('Los datos ingresados no tienen sentido para el algoritmo DES, ingrese nuevos datos')\n",
    "\n",
    "mediobloquept = int(bloquept/2)\n",
    "entradaSbox = int(tamaniosubllave/cantSbox)\n",
    "salidaSbox = int(mediobloquept/cantSbox)\n",
    "\n",
    "print('Configuración final')\n",
    "print('Tamaño de bloque texto plano: ', bloquept,' bits')\n",
    "print('Tamaño de llave: ', tamaniollave,' bits')\n",
    "print('Tamaño de sub-llave: ', tamaniosubllave,' bits')\n",
    "print('Cantidad de S-Cajas: ', cantSbox)\n",
    "print('Bits de salida S-Cajas: ', salidaSbox,' bits')\n"
   ]
  },
  {
   "cell_type": "code",
   "execution_count": 14,
   "metadata": {},
   "outputs": [],
   "source": [
    "\n",
    "# Genera tabla de permutación \n",
    "def generatePermTab(n):\n",
    "\ttable=[*range(1,n+1,1)]\n",
    "\tfor i in range(len(table)-1):\n",
    "\t\trandom_index = random.randint(0, (len(table)-1))\n",
    "\t\ttemp = table.pop(random_index)\n",
    "\t\ttable.append(temp)\n",
    "\treturn table\n",
    "\t\n",
    "# Genera tabla de expansion para el bloque que va a pasar por las s-box\n",
    "def generateExpTab(mediobloquept, tamaniosubllave):\n",
    "\tvalues= [*range(1,mediobloquept+1, 1)]\n",
    "\texp=[]\n",
    "\tfor i in range(tamaniosubllave):\n",
    "\t\texp.append(values[random.randint(0,(len(values)-1))])\n",
    "\treturn exp\n",
    "\n",
    "# Convierte texto plano a hex\n",
    "def pt2hex(s):\n",
    "\thex_s = s.encode('utf-8')\n",
    "\thex_s = hex_s.hex()\n",
    "\treturn hex_s.upper()\n",
    "\n",
    "# Conversión de hex a decimal\n",
    "def hex2bin(s):\n",
    "\tmp = {'0': \"0000\",\n",
    "\t\t'1': \"0001\",\n",
    "\t\t'2': \"0010\",\n",
    "\t\t'3': \"0011\",\n",
    "\t\t'4': \"0100\",\n",
    "\t\t'5': \"0101\",\n",
    "\t\t'6': \"0110\",\n",
    "\t\t'7': \"0111\",\n",
    "\t\t'8': \"1000\",\n",
    "\t\t'9': \"1001\",\n",
    "\t\t'A': \"1010\",\n",
    "\t\t'B': \"1011\",\n",
    "\t\t'C': \"1100\",\n",
    "\t\t'D': \"1101\",\n",
    "\t\t'E': \"1110\",\n",
    "\t\t'F': \"1111\"}\n",
    "\tbin = \"\"\n",
    "\tfor i in range(len(s)):\n",
    "\t\tbin = bin + mp[s[i]]\n",
    "\treturn bin\n",
    "\n",
    "# Convierte binario a hex\n",
    "def bin2hex(s):\n",
    "\tmp = {\"0000\": '0',\n",
    "\t\t\"0001\": '1',\n",
    "\t\t\"0010\": '2',\n",
    "\t\t\"0011\": '3',\n",
    "\t\t\"0100\": '4',\n",
    "\t\t\"0101\": '5',\n",
    "\t\t\"0110\": '6',\n",
    "\t\t\"0111\": '7',\n",
    "\t\t\"1000\": '8',\n",
    "\t\t\"1001\": '9',\n",
    "\t\t\"1010\": 'A',\n",
    "\t\t\"1011\": 'B',\n",
    "\t\t\"1100\": 'C',\n",
    "\t\t\"1101\": 'D',\n",
    "\t\t\"1110\": 'E',\n",
    "\t\t\"1111\": 'F'}\n",
    "\thex = \"\"\n",
    "\tfor i in range(0, len(s), 4):\n",
    "\t\tch = \"\"\n",
    "\t\tch = ch + s[i]\n",
    "\t\tch = ch + s[i + 1]\n",
    "\t\tch = ch + s[i + 2]\n",
    "\t\tch = ch + s[i + 3]\n",
    "\t\thex = hex + mp[ch]\n",
    "\n",
    "\treturn hex\n",
    "\n",
    "# Convierte binario a decimal\n",
    "def bin2dec(binary):\n",
    "\n",
    "\tbinary1 = binary\n",
    "\tdecimal, i, n = 0, 0, 0\n",
    "\twhile(binary != 0):\n",
    "\t\tdec = binary % 10\n",
    "\t\tdecimal = decimal + dec * pow(2, i)\n",
    "\t\tbinary = binary//10\n",
    "\t\ti += 1\n",
    "\treturn decimal\n",
    "\n",
    "# Convierte decimal a binario\n",
    "def dec2bin(num):\n",
    "\tres = bin(num).replace(\"0b\", \"\")\n",
    "\tif(len(res) % 4 != 0):\n",
    "\t\tdiv = len(res) / 4\n",
    "\t\tdiv = int(div)\n",
    "\t\tcounter = (4 * (div + 1)) - len(res)\n",
    "\t\tfor i in range(0, counter):\n",
    "\t\t\tres = '0' + res\n",
    "\treturn res\n",
    "\n",
    "# Realiza una permutación de bits segun alguna tabla de permutación o expansion, devuelve un string de n bits\n",
    "def permute(k, arr, n):\n",
    "\tpermutation = \"\"\n",
    "\tfor i in range(0, n):\n",
    "\t\tpermutation = permutation + k[arr[i] - 1]\n",
    "\treturn permutation\n",
    "\n",
    "# Realiza shift de n bits hacia la izquierda s\n",
    "def shift_left(k, nth_shifts):\n",
    "\ts = \"\"\n",
    "\tfor i in range(nth_shifts):\n",
    "\t\tfor j in range(1, len(k)):\n",
    "\t\t\ts = s + k[j]\n",
    "\t\ts = s + k[0]\n",
    "\t\tk = s\n",
    "\t\ts = \"\"\n",
    "\treturn k\n",
    "\n",
    "# calcula xor entre dos binarios a y b\n",
    "def xor(a, b):\n",
    "\tans = \"\"\n",
    "\tfor i in range(len(a)):\n",
    "\t\tif a[i] == b[i]:\n",
    "\t\t\tans = ans + \"0\"\n",
    "\t\telse:\n",
    "\t\t\tans = ans + \"1\"\n",
    "\treturn ans"
   ]
  },
  {
   "cell_type": "code",
   "execution_count": 15,
   "metadata": {},
   "outputs": [],
   "source": [
    "# Las s-cajas toman 6 bits y devuelven 4\n",
    "def sbox(entrada, salida):\n",
    "\treturn entrada[:len(entrada) - (len(entrada)-salida)]"
   ]
  },
  {
   "cell_type": "code",
   "execution_count": 16,
   "metadata": {},
   "outputs": [
    {
     "name": "stdout",
     "output_type": "stream",
     "text": [
      "[8, 9, 1, 4, 6, 2, 7, 12, 3, 10, 11, 5]\n"
     ]
    }
   ],
   "source": [
    "# Genera la tabla de permutacion inicial\n",
    "initial_perm = generatePermTab(bloquept)\n",
    "print(initial_perm)"
   ]
  },
  {
   "cell_type": "code",
   "execution_count": 17,
   "metadata": {},
   "outputs": [
    {
     "name": "stdout",
     "output_type": "stream",
     "text": [
      "[6, 3, 5, 5, 6, 3, 4, 5]\n"
     ]
    }
   ],
   "source": [
    "# Genera tabla de expansion de bloque\n",
    "exp_d = generateExpTab(mediobloquept,tamaniosubllave)\n",
    "print(exp_d)"
   ]
  },
  {
   "cell_type": "code",
   "execution_count": 18,
   "metadata": {},
   "outputs": [
    {
     "name": "stdout",
     "output_type": "stream",
     "text": [
      "[1, 6, 5, 4, 2, 3]\n"
     ]
    }
   ],
   "source": [
    "# Genera tabla de permutacion directa\n",
    "per = generatePermTab(mediobloquept)\n",
    "print(per)"
   ]
  },
  {
   "cell_type": "code",
   "execution_count": 19,
   "metadata": {},
   "outputs": [
    {
     "name": "stdout",
     "output_type": "stream",
     "text": [
      "[2, 5, 6, 10, 11, 1, 12, 8, 3, 4, 7, 9]\n"
     ]
    }
   ],
   "source": [
    "# Genera tabla de permutacion final\n",
    "final_perm = generatePermTab(bloquept)\n",
    "print(final_perm)"
   ]
  },
  {
   "cell_type": "code",
   "execution_count": 20,
   "metadata": {},
   "outputs": [],
   "source": [
    "def encrypt(pt, rkb):\n",
    "\tprint('Texto plano en hex: ', pt)\n",
    "\tpt = hex2bin(pt)\n",
    "\tprint('Texto plano en binario:', pt)\n",
    "\n",
    "\t# Permutación inicial\n",
    "\tpt = permute(pt, initial_perm, bloquept)\n",
    "\tprint(\"Despues de la primera permutación: \", pt)\n",
    "\n",
    "\t# El bloque entero se separa en 2 partes, izquierda y derecha\n",
    "\tleft = pt[0:mediobloquept]\n",
    "\tright = pt[mediobloquept:bloquept]\n",
    "\tfor i in range(0, 16):\n",
    "\t\t# Se expande el medio bloque al tamaño de la sub llave\n",
    "\t\tright_expanded = permute(right, exp_d, tamaniosubllave)\n",
    "\n",
    "\t\t# XOR entre RoundKey[i] y el bloque derecho expandido\n",
    "\t\txor_x = xor(right_expanded, rkb[i])\n",
    "\n",
    "\t\t# El resultado del xor pasa por las s-cajas correspondientes\n",
    "\t\tsbox_str = \"\"\n",
    "\t\tfor j in range(0, cantSbox):\n",
    "\t\t\tsixbits=xor_x[j*entradaSbox:(entradaSbox*6)+6]\n",
    "\t\t\tsbox_str = sbox_str + sbox(sixbits,salidaSbox)\n",
    "\t\t\n",
    "\t\t# Se realiza una permutacion adicional, la cual es directa\n",
    "\t\tsbox_str = permute(sbox_str, per, mediobloquept)\n",
    "\n",
    "\t\t# Se realiza un xor entre el medio bloque izquierdo y el resultado de las s-cajas\n",
    "\t\tresult = xor(left, sbox_str)\n",
    "\t\tleft = result\n",
    "\n",
    "\t\t# Se intercambia el lado izquierdo con el derecho\n",
    "\t\tif(i != 15):\n",
    "\t\t\tleft, right = right, left\n",
    "\t\tprint(\"Ronda \", i + 1, \" Bloque izquierdo: \", left,\n",
    "\t\t\t\" Bloque derecho: \", right, \" Sub-llave: \", rkb[i])\n",
    "\n",
    "\t# Se concatena izquierda + derecha\n",
    "\tcombine = left + right\n",
    "\n",
    "\t# Se realiza la permutacion final de bits\n",
    "\tcipher_text = permute(combine, final_perm, bloquept)\n",
    "\treturn cipher_text"
   ]
  },
  {
   "cell_type": "code",
   "execution_count": 21,
   "metadata": {},
   "outputs": [
    {
     "name": "stdout",
     "output_type": "stream",
     "text": [
      "Texto plano:  AB\n",
      "Llave:  DA\n",
      "Entrada en hexadecimal:  4142\n",
      "Llave en hexadecimal:  4441\n"
     ]
    }
   ],
   "source": [
    "entrada = \"\"\n",
    "llave = \"\"\n",
    "\n",
    "while (len(entrada)*8)<bloquept:\n",
    "    entrada=input('Ingrese texto plano de al menos el tamaño del bloque elegido: ')\n",
    "\n",
    "while (len(llave)*8)<tamaniollave:\n",
    "    llave=input('Ingrese llave de al menos el tamaño elegido: ')\n",
    "\n",
    "pt = pt2hex(entrada)\n",
    "key = pt2hex(llave)\n",
    "\n",
    "print('Texto plano: ', entrada)\n",
    "print('Llave: ', llave)\n",
    "print('Entrada en hexadecimal: ', pt)\n",
    "print('Llave en hexadecimal: ', key)\n"
   ]
  },
  {
   "cell_type": "code",
   "execution_count": 22,
   "metadata": {},
   "outputs": [],
   "source": [
    "# Generación de sub-llaves\n",
    "# --llave de hexa a binario\n",
    "key = hex2bin(key)\n",
    "\n",
    "# Orden de shifts para generar las 16 sub-llaves distintas\n",
    "shift_table = [1, 1, 2, 2,\n",
    "\t\t\t2, 2, 2, 2,\n",
    "\t\t\t1, 2, 2, 2,\n",
    "\t\t\t2, 2, 2, 1]\n",
    "\n",
    "# Se genera tabla para comprimir las llaves\n",
    "key_comp = generatePermTab(tamaniosubllave)\n",
    "\n",
    "# Llave se divide en 2 partes\n",
    "left = key[0:int(tamaniollave/2)] \n",
    "right = key[int(tamaniollave/2):tamaniollave] \n",
    "\n",
    "rkb = [] # rkb para sub-llaves en binario\n",
    "\n",
    "\n",
    "# Se generan 16 sub llaves\n",
    "for i in range(0, 16):\n",
    "\t# Se realizan los shifts segun la tabla de arriba\n",
    "\tleft = shift_left(left, shift_table[i])\n",
    "\tright = shift_left(right, shift_table[i])\n",
    "\n",
    "\t# Se combinan ambas partes\n",
    "\tcombine_str = left + right\n",
    "\n",
    "\t# Se comprime la llave al tamaño de las sub-llaves elegido\n",
    "\tround_key = permute(combine_str, key_comp, tamaniosubllave)\n",
    "\t#Lista con 16 sub-llaves\n",
    "\trkb.append(round_key)"
   ]
  },
  {
   "cell_type": "code",
   "execution_count": 23,
   "metadata": {},
   "outputs": [
    {
     "name": "stdout",
     "output_type": "stream",
     "text": [
      "Cifrado\n",
      "Texto plano en hex:  4142\n",
      "Texto plano en binario: 0100000101000010\n",
      "Despues de la primera permutación:  100001000100\n",
      "Ronda  1  Bloque izquierdo:  000100  Bloque derecho:  111001  Sub-llave:  00010100\n",
      "Ronda  2  Bloque izquierdo:  111001  Bloque derecho:  111111  Sub-llave:  00101010\n",
      "Ronda  3  Bloque izquierdo:  111111  Bloque derecho:  000010  Sub-llave:  00001001\n",
      "Ronda  4  Bloque izquierdo:  000010  Bloque derecho:  101110  Sub-llave:  00000011\n",
      "Ronda  5  Bloque izquierdo:  101110  Bloque derecho:  001100  Sub-llave:  00101010\n",
      "Ronda  6  Bloque izquierdo:  001100  Bloque derecho:  110000  Sub-llave:  00001001\n",
      "Ronda  7  Bloque izquierdo:  110000  Bloque derecho:  011100  Sub-llave:  00000011\n",
      "Ronda  8  Bloque izquierdo:  011100  Bloque derecho:  111111  Sub-llave:  00101010\n",
      "Ronda  9  Bloque izquierdo:  111111  Bloque derecho:  001001  Sub-llave:  11000100\n",
      "Ronda  10  Bloque izquierdo:  001001  Bloque derecho:  110001  Sub-llave:  10010000\n",
      "Ronda  11  Bloque izquierdo:  110001  Bloque derecho:  100101  Sub-llave:  00010100\n",
      "Ronda  12  Bloque izquierdo:  100101  Bloque derecho:  101111  Sub-llave:  11000100\n",
      "Ronda  13  Bloque izquierdo:  101111  Bloque derecho:  111010  Sub-llave:  10010000\n",
      "Ronda  14  Bloque izquierdo:  111010  Bloque derecho:  101100  Sub-llave:  00010100\n",
      "Ronda  15  Bloque izquierdo:  101100  Bloque derecho:  001010  Sub-llave:  11000100\n",
      "Ronda  16  Bloque izquierdo:  100011  Bloque derecho:  001010  Sub-llave:  00001001\n",
      "Texto cifrado en hex:  6C1\n"
     ]
    }
   ],
   "source": [
    "print(\"Cifrado\")\n",
    "cipher_text = bin2hex(encrypt(pt, rkb))\n",
    "print(\"Texto cifrado en hex: \", cipher_text)"
   ]
  }
 ],
 "metadata": {
  "kernelspec": {
   "display_name": "Python 3.8.10 64-bit",
   "language": "python",
   "name": "python3"
  },
  "language_info": {
   "codemirror_mode": {
    "name": "ipython",
    "version": 3
   },
   "file_extension": ".py",
   "mimetype": "text/x-python",
   "name": "python",
   "nbconvert_exporter": "python",
   "pygments_lexer": "ipython3",
   "version": "3.8.10"
  },
  "orig_nbformat": 4,
  "vscode": {
   "interpreter": {
    "hash": "916dbcbb3f70747c44a77c7bcd40155683ae19c65e1c03b4aa3499c5328201f1"
   }
  }
 },
 "nbformat": 4,
 "nbformat_minor": 2
}
