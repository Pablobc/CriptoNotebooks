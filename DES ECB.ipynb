{
 "cells": [
  {
   "cell_type": "code",
   "execution_count": 2,
   "metadata": {},
   "outputs": [],
   "source": [
    "import random"
   ]
  },
  {
   "cell_type": "code",
   "execution_count": 4,
   "metadata": {},
   "outputs": [
    {
     "name": "stdout",
     "output_type": "stream",
     "text": [
      "Configuración final\n",
      "Tamaño de bloque texto plano:  64  bits\n",
      "Tamaño de llave:  64  bits\n",
      "Tamaño de sub-llave:  48  bits\n",
      "Cantidad de S-Cajas:  8\n",
      "Bits de salida S-Cajas:  4  bits\n"
     ]
    }
   ],
   "source": [
    "inputviable=0\n",
    "\n",
    "while inputviable==0: \n",
    "    bloquept = int(input('Ingrese el largo del bloque de texto plano: '))\n",
    "    tamaniollave = int(input('Ingrese el largo de la llave a utilizar: '))\n",
    "    tamaniosubllave = int(input('Ingrese el largo de la sub llave a utilizar'))\n",
    "    cantSbox = int(input('Ingrese cantidad de S-box a usar: '))\n",
    "    if (bloquept>=tamaniosubllave) and (tamaniollave>tamaniosubllave) and (cantSbox>0) and (tamaniosubllave>(bloquept/2) and ((bloquept/2)%cantSbox==0) and (tamaniosubllave%cantSbox==0)):\n",
    "        inputviable=1\n",
    "    else:\n",
    "        print('Los datos ingresados no tienen sentido para el algoritmo DES, ingrese nuevos datos')\n",
    "\n",
    "mediobloquept = int(bloquept/2)\n",
    "entradaSbox = int(tamaniosubllave/cantSbox)\n",
    "salidaSbox = int(mediobloquept/cantSbox)\n",
    "\n",
    "print('Configuración final')\n",
    "print('Tamaño de bloque texto plano: ', bloquept,' bits')\n",
    "print('Tamaño de llave: ', tamaniollave,' bits')\n",
    "print('Tamaño de sub-llave: ', tamaniosubllave,' bits')\n",
    "print('Cantidad de S-Cajas: ', cantSbox)\n",
    "print('Bits de entrada S-Cajas', entradaSbox, ' bits')\n",
    "print('Bits de salida S-Cajas: ', salidaSbox,' bits')"
   ]
  },
  {
   "cell_type": "code",
   "execution_count": 5,
   "metadata": {},
   "outputs": [],
   "source": [
    "\n",
    "# Genera tabla de permutación \n",
    "def generatePermTab(n):\n",
    "\ttable=[*range(1,n+1,1)]\n",
    "\tfor i in range(len(table)-1):\n",
    "\t\trandom_index = random.randint(0, (len(table)-1))\n",
    "\t\ttemp = table.pop(random_index)\n",
    "\t\ttable.append(temp)\n",
    "\treturn table\n",
    "\t\n",
    "# Genera tabla de expansion para el bloque que va a pasar por las s-box\n",
    "def generateExpTab(mediobloquept, tamaniosubllave):\n",
    "\tvalues= [*range(1,mediobloquept+1, 1)]\n",
    "\texp=[]\n",
    "\tfor i in range(tamaniosubllave):\n",
    "\t\texp.append(values[random.randint(0,(len(values)-1))])\n",
    "\treturn exp\n",
    "\n",
    "# Convierte texto plano a hex\n",
    "def pt2hex(s):\n",
    "\thex_s = s.encode('utf-8')\n",
    "\thex_s = hex_s.hex()\n",
    "\treturn hex_s.upper()\n",
    "\n",
    "# Conversión de hex a decimal\n",
    "def hex2bin(s):\n",
    "\tmp = {'0': \"0000\",\n",
    "\t\t'1': \"0001\",\n",
    "\t\t'2': \"0010\",\n",
    "\t\t'3': \"0011\",\n",
    "\t\t'4': \"0100\",\n",
    "\t\t'5': \"0101\",\n",
    "\t\t'6': \"0110\",\n",
    "\t\t'7': \"0111\",\n",
    "\t\t'8': \"1000\",\n",
    "\t\t'9': \"1001\",\n",
    "\t\t'A': \"1010\",\n",
    "\t\t'B': \"1011\",\n",
    "\t\t'C': \"1100\",\n",
    "\t\t'D': \"1101\",\n",
    "\t\t'E': \"1110\",\n",
    "\t\t'F': \"1111\"}\n",
    "\tbin = \"\"\n",
    "\tfor i in range(len(s)):\n",
    "\t\tbin = bin + mp[s[i]]\n",
    "\treturn bin\n",
    "\n",
    "# Convierte binario a hex\n",
    "def bin2hex(s):\n",
    "\tmp = {\"0000\": '0',\n",
    "\t\t\"0001\": '1',\n",
    "\t\t\"0010\": '2',\n",
    "\t\t\"0011\": '3',\n",
    "\t\t\"0100\": '4',\n",
    "\t\t\"0101\": '5',\n",
    "\t\t\"0110\": '6',\n",
    "\t\t\"0111\": '7',\n",
    "\t\t\"1000\": '8',\n",
    "\t\t\"1001\": '9',\n",
    "\t\t\"1010\": 'A',\n",
    "\t\t\"1011\": 'B',\n",
    "\t\t\"1100\": 'C',\n",
    "\t\t\"1101\": 'D',\n",
    "\t\t\"1110\": 'E',\n",
    "\t\t\"1111\": 'F'}\n",
    "\thex = \"\"\n",
    "\tfor i in range(0, len(s), 4):\n",
    "\t\tch = \"\"\n",
    "\t\tch = ch + s[i]\n",
    "\t\tch = ch + s[i + 1]\n",
    "\t\tch = ch + s[i + 2]\n",
    "\t\tch = ch + s[i + 3]\n",
    "\t\thex = hex + mp[ch]\n",
    "\n",
    "\treturn hex\n",
    "\n",
    "# Convierte binario a decimal\n",
    "def bin2dec(binary):\n",
    "\n",
    "\tbinary1 = binary\n",
    "\tdecimal, i, n = 0, 0, 0\n",
    "\twhile(binary != 0):\n",
    "\t\tdec = binary % 10\n",
    "\t\tdecimal = decimal + dec * pow(2, i)\n",
    "\t\tbinary = binary//10\n",
    "\t\ti += 1\n",
    "\treturn decimal\n",
    "\n",
    "# Convierte decimal a binario\n",
    "def dec2bin(num):\n",
    "\tres = bin(num).replace(\"0b\", \"\")\n",
    "\tif(len(res) % 4 != 0):\n",
    "\t\tdiv = len(res) / 4\n",
    "\t\tdiv = int(div)\n",
    "\t\tcounter = (4 * (div + 1)) - len(res)\n",
    "\t\tfor i in range(0, counter):\n",
    "\t\t\tres = '0' + res\n",
    "\treturn res\n",
    "\n",
    "# Realiza una permutación de bits segun alguna tabla de permutación o expansion, devuelve un string de n bits\n",
    "def permute(k, arr, n):\n",
    "\tpermutation = \"\"\n",
    "\tfor i in range(0, n):\n",
    "\t\tpermutation = permutation + k[arr[i] - 1]\n",
    "\treturn permutation\n",
    "\n",
    "# Realiza shift de n bits hacia la izquierda s\n",
    "def shift_left(k, nth_shifts):\n",
    "\ts = \"\"\n",
    "\tfor i in range(nth_shifts):\n",
    "\t\tfor j in range(1, len(k)):\n",
    "\t\t\ts = s + k[j]\n",
    "\t\ts = s + k[0]\n",
    "\t\tk = s\n",
    "\t\ts = \"\"\n",
    "\treturn k\n",
    "\n",
    "# calcula xor entre dos binarios a y b\n",
    "def xor(a, b):\n",
    "\tans = \"\"\n",
    "\tfor i in range(len(a)):\n",
    "\t\tif a[i] == b[i]:\n",
    "\t\t\tans = ans + \"0\"\n",
    "\t\telse:\n",
    "\t\t\tans = ans + \"1\"\n",
    "\treturn ans"
   ]
  },
  {
   "cell_type": "code",
   "execution_count": 6,
   "metadata": {},
   "outputs": [],
   "source": [
    "# Las s-cajas toman 6 bits y devuelven 4\n",
    "def sbox(entrada, salida):\n",
    "\treturn entrada[:len(entrada) - (len(entrada)-salida)]"
   ]
  },
  {
   "cell_type": "code",
   "execution_count": 7,
   "metadata": {},
   "outputs": [
    {
     "name": "stdout",
     "output_type": "stream",
     "text": [
      "[1, 4, 6, 8, 12, 13, 19, 20, 24, 27, 28, 29, 34, 35, 37, 38, 43, 47, 49, 51, 53, 58, 60, 62, 61, 16, 44, 48, 30, 14, 45, 40, 7, 11, 39, 3, 36, 54, 23, 57, 18, 42, 63, 25, 56, 41, 46, 5, 26, 55, 33, 32, 31, 15, 50, 22, 9, 17, 2, 52, 10, 59, 21, 64]\n"
     ]
    }
   ],
   "source": [
    "# Genera la tabla de permutacion inicial\n",
    "initial_perm = generatePermTab(bloquept)\n",
    "print(initial_perm)"
   ]
  },
  {
   "cell_type": "code",
   "execution_count": 8,
   "metadata": {},
   "outputs": [
    {
     "name": "stdout",
     "output_type": "stream",
     "text": [
      "[13, 10, 9, 26, 19, 29, 32, 19, 21, 28, 17, 24, 26, 29, 15, 25, 32, 6, 28, 15, 13, 28, 3, 16, 15, 14, 31, 8, 24, 10, 32, 4, 6, 23, 24, 3, 15, 25, 9, 31, 2, 7, 4, 12, 3, 25, 19, 11]\n"
     ]
    }
   ],
   "source": [
    "# Genera tabla de expansion de bloque\n",
    "exp_d = generateExpTab(mediobloquept,tamaniosubllave)\n",
    "print(exp_d)"
   ]
  },
  {
   "cell_type": "code",
   "execution_count": 9,
   "metadata": {},
   "outputs": [
    {
     "name": "stdout",
     "output_type": "stream",
     "text": [
      "[1, 2, 3, 4, 5, 6, 7, 15, 17, 19, 20, 21, 22, 23, 27, 30, 16, 13, 8, 14, 25, 11, 28, 12, 24, 31, 29, 32, 26, 18, 10, 9]\n"
     ]
    }
   ],
   "source": [
    "# Genera tabla de permutacion directa\n",
    "per = generatePermTab(mediobloquept)\n",
    "print(per)"
   ]
  },
  {
   "cell_type": "code",
   "execution_count": 10,
   "metadata": {},
   "outputs": [
    {
     "name": "stdout",
     "output_type": "stream",
     "text": [
      "[2, 4, 6, 11, 20, 21, 22, 24, 28, 32, 34, 36, 41, 42, 43, 44, 45, 46, 48, 50, 51, 52, 53, 55, 56, 58, 59, 63, 64, 26, 57, 31, 30, 16, 40, 8, 17, 23, 35, 54, 47, 60, 3, 1, 62, 10, 19, 49, 7, 25, 18, 14, 33, 61, 15, 27, 9, 37, 5, 39, 38, 13, 29, 12]\n"
     ]
    }
   ],
   "source": [
    "# Genera tabla de permutacion final\n",
    "final_perm = generatePermTab(bloquept)\n",
    "print(final_perm)"
   ]
  },
  {
   "cell_type": "code",
   "execution_count": 11,
   "metadata": {},
   "outputs": [],
   "source": [
    "def encrypt(pt, rkb):\n",
    "\tprint('Texto plano en hex: ', pt)\n",
    "\tpt = hex2bin(pt)\n",
    "\tprint('Texto plano en binario:', pt)\n",
    "\n",
    "\t# Permutación inicial\n",
    "\tpt = permute(pt, initial_perm, bloquept)\n",
    "\tprint(\"Despues de la primera permutación: \", pt)\n",
    "\n",
    "\t# El bloque entero se separa en 2 partes, izquierda y derecha\n",
    "\tleft = pt[0:mediobloquept]\n",
    "\tright = pt[mediobloquept:bloquept]\n",
    "\tfor i in range(0, 16):\n",
    "\t\t# Se expande el medio bloque al tamaño de la sub llave\n",
    "\t\tright_expanded = permute(right, exp_d, tamaniosubllave)\n",
    "\n",
    "\t\t# XOR entre RoundKey[i] y el bloque derecho expandido\n",
    "\t\txor_x = xor(right_expanded, rkb[i])\n",
    "\n",
    "\t\t# El resultado del xor pasa por las s-cajas correspondientes\n",
    "\t\tsbox_str = \"\"\n",
    "\t\tfor j in range(0, cantSbox):\n",
    "\t\t\tsixbits=xor_x[j*entradaSbox:(entradaSbox*6)+6]\n",
    "\t\t\tsbox_str = sbox_str + sbox(sixbits,salidaSbox)\n",
    "\t\t\n",
    "\t\t# Se realiza una permutacion adicional, la cual es directa\n",
    "\t\tsbox_str = permute(sbox_str, per, mediobloquept)\n",
    "\n",
    "\t\t# Se realiza un xor entre el medio bloque izquierdo y el resultado de las s-cajas\n",
    "\t\tresult = xor(left, sbox_str)\n",
    "\t\tleft = result\n",
    "\n",
    "\t\t# Se intercambia el lado izquierdo con el derecho\n",
    "\t\tif(i != 15):\n",
    "\t\t\tleft, right = right, left\n",
    "\t\tprint(\"Ronda \", i + 1, \" Bloque izquierdo: \", left,\n",
    "\t\t\t\" Bloque derecho: \", right, \" Sub-llave: \", rkb[i])\n",
    "\n",
    "\t# Se concatena izquierda + derecha\n",
    "\tcombine = left + right\n",
    "\n",
    "\t# Se realiza la permutacion final de bits\n",
    "\tcipher_text = permute(combine, final_perm, bloquept)\n",
    "\treturn cipher_text"
   ]
  },
  {
   "cell_type": "code",
   "execution_count": 12,
   "metadata": {},
   "outputs": [
    {
     "name": "stdout",
     "output_type": "stream",
     "text": [
      "Texto plano:  ABCDEFGHIJK\n",
      "Llave:  ASDFASDF\n",
      "Entrada en hexadecimal:  4142434445464748494A4B\n",
      "Llave en hexadecimal:  4153444641534446\n"
     ]
    }
   ],
   "source": [
    "entrada = \"\"\n",
    "llave = \"\"\n",
    "\n",
    "entrada=input('Ingrese texto plano de al menos el tamaño del bloque elegido: ')\n",
    "\n",
    "llave=input('Ingrese llave de al menos el tamaño elegido: ')\n",
    "\n",
    "pt = pt2hex(entrada)\n",
    "key = pt2hex(llave)\n",
    "\n",
    "print('Texto plano: ', entrada)\n",
    "print('Llave: ', llave)\n",
    "print('Entrada en hexadecimal: ', pt)\n",
    "print('Llave en hexadecimal: ', key)\n"
   ]
  },
  {
   "cell_type": "code",
   "execution_count": 13,
   "metadata": {},
   "outputs": [],
   "source": [
    "# Generación de sub-llaves\n",
    "# --llave de hexa a binario\n",
    "key = hex2bin(key)\n",
    "\n",
    "# Orden de shifts para generar las 16 sub-llaves distintas\n",
    "shift_table = [1, 1, 2, 2,\n",
    "\t\t\t2, 2, 2, 2,\n",
    "\t\t\t1, 2, 2, 2,\n",
    "\t\t\t2, 2, 2, 1]\n",
    "\n",
    "# Se genera tabla para comprimir las llaves\n",
    "key_comp = generatePermTab(tamaniosubllave)\n",
    "\n",
    "# Llave se divide en 2 partes\n",
    "left = key[0:int(tamaniollave/2)] \n",
    "right = key[int(tamaniollave/2):tamaniollave] \n",
    "\n",
    "rkb = [] # rkb para sub-llaves en binario\n",
    "\n",
    "\n",
    "# Se generan 16 sub llaves\n",
    "for i in range(0, 16):\n",
    "\t# Se realizan los shifts segun la tabla de arriba\n",
    "\tleft = shift_left(left, shift_table[i])\n",
    "\tright = shift_left(right, shift_table[i])\n",
    "\n",
    "\t# Se combinan ambas partes\n",
    "\tcombine_str = left + right\n",
    "\n",
    "\t# Se comprime la llave al tamaño de las sub-llaves elegido\n",
    "\tround_key = permute(combine_str, key_comp, tamaniosubllave)\n",
    "\t#Lista con 16 sub-llaves\n",
    "\trkb.append(round_key)"
   ]
  },
  {
   "cell_type": "code",
   "execution_count": 23,
   "metadata": {},
   "outputs": [
    {
     "name": "stdout",
     "output_type": "stream",
     "text": [
      "4142434445464748494A4BAAAAAAAAAA101010101010101010101010101010101010101010101010101010101010101010101010101010101010101010101010\n",
      "Cifrado\n",
      "Bloque en hex:  4142434445464748494A4BAAAAAAAAAA101010101010101010101010101010101010101010101010101010101010101010101010101010101010101010101010\n",
      "Bloque en binario: 01000001010000100100001101000100010001010100011001000111010010000100100101001010010010111010101010101010101010101010101010101010000100000001000000010000000100000001000000010000000100000001000000010000000100000001000000010000000100000001000000010000000100000001000000010000000100000001000000010000000100000001000000010000000100000001000000010000000100000001000000010000000100000001000000010000000100000001000000010000000100000001000000010000000100000001000000010000000100000001000000010000000100000001000000010000\n",
      "Despues de la primera permutación:  0001000010001001010001001000100100000110110010101100011000101000\n",
      "Ronda  1  Bloque izquierdo:  00000110110010101100011000101000  Bloque derecho:  11110011101011111100110011001011  Sub-llave:  000011001001001001010110100111000101000010001000\n",
      "Ronda  2  Bloque izquierdo:  11110011101011111100110011001011  Bloque derecho:  10101001000101100011001101001101  Sub-llave:  000100010100010011100100000100001000111101000101\n",
      "Ronda  3  Bloque izquierdo:  10101001000101100011001101001101  Bloque derecho:  11010111000011110101000001111000  Sub-llave:  001101100011000011000101010000100000000001111100\n",
      "Ronda  4  Bloque izquierdo:  11010111000011110101000001111000  Bloque derecho:  10010100101110011011110001100010  Sub-llave:  101010110100000110110001000000000001011101010001\n",
      "Ronda  5  Bloque izquierdo:  10010100101110011011110001100010  Bloque derecho:  11010001110100101101001101100111  Sub-llave:  101100000000010101001101110000100000011010100100\n",
      "Ronda  6  Bloque izquierdo:  11010001110100101101001101100111  Bloque derecho:  01110000000000111100001111010001  Sub-llave:  100100110101010110100000001010000000000001010111\n",
      "Ronda  7  Bloque izquierdo:  01110000000000111100001111010001  Bloque derecho:  10101001010000001010110010110000  Sub-llave:  011000000001010011000101010000010010011101100000\n",
      "Ronda  8  Bloque izquierdo:  10101001010000001010110010110000  Bloque derecho:  10001000001100100110010100011001  Sub-llave:  101100111001001100100001000000100100000100010101\n",
      "Ronda  9  Bloque izquierdo:  10001000001100100110010100011001  Bloque derecho:  11100001011110010001010001110000  Sub-llave:  010001010010011000100010100101010111000010001000\n",
      "Ronda  10  Bloque izquierdo:  11100001011110010001010001110000  Bloque derecho:  01011010010101110001100111011001  Sub-llave:  000010001011101001011100001000001101100000000010\n",
      "Ronda  11  Bloque izquierdo:  01011010010101110001100111011001  Bloque derecho:  11110010010010011110101100001110  Sub-llave:  010001100000100000001010100111010001000110011000\n",
      "Ronda  12  Bloque izquierdo:  11110010010010011110101100001110  Bloque derecho:  10011100011010010000011110110011  Sub-llave:  000010000010001000011000001110101110111000000010\n",
      "Ronda  13  Bloque izquierdo:  10011100011010010000011110110011  Bloque derecho:  01101001100111010010100011100111  Sub-llave:  010101001110100000000000100010010011000010001100\n",
      "Ronda  14  Bloque izquierdo:  01101001100111010010100011100111  Bloque derecho:  00100000011110100001000001101010  Sub-llave:  000010001000001010011010011101000111000001000010\n",
      "Ronda  15  Bloque izquierdo:  00100000011110100001000001101010  Bloque derecho:  11011011110100000011111010100101  Sub-llave:  011000001010100000001011100011011000100010000001\n",
      "Ronda  16  Bloque izquierdo:  10000010010110001101000011010110  Bloque derecho:  11011011110100000011111010100101  Sub-llave:  110000110001000111100100010000110010000001010001\n",
      "Bloque cifrado en hex:  08BD0F2FA91CE855\n"
     ]
    }
   ],
   "source": [
    "cantRelleno=int(int(bloquept/4)-(len(pt)%int((bloquept/4))))\n",
    "padding=dec2bin(cantRelleno)\n",
    "padding=bin2hex(padding)\n",
    "padding=padding*cantRelleno\n",
    "\n",
    "pt=pt+padding\n",
    "\n",
    "cifradofinal=''\n",
    "\n",
    "cantBloques = int(len(pt)/int(bloquept/4))\n",
    "\n",
    "for i in range(cantBloques):\n",
    "    print(\"Cifrado\")\n",
    "    cipher_text = bin2hex(encrypt(pt[i*16:(i*16)+16], rkb))\n",
    "    print(\"Bloque cifrado en hex: \", cipher_text)\n",
    "    cifradofinal= cifradofinal+cipher_text\n",
    "\n",
    "print('Cifrado completo: ', cifradofinal)"
   ]
  }
 ],
 "metadata": {
  "kernelspec": {
   "display_name": "Python 3.8.10 64-bit",
   "language": "python",
   "name": "python3"
  },
  "language_info": {
   "codemirror_mode": {
    "name": "ipython",
    "version": 3
   },
   "file_extension": ".py",
   "mimetype": "text/x-python",
   "name": "python",
   "nbconvert_exporter": "python",
   "pygments_lexer": "ipython3",
   "version": "3.8.10"
  },
  "orig_nbformat": 4,
  "vscode": {
   "interpreter": {
    "hash": "916dbcbb3f70747c44a77c7bcd40155683ae19c65e1c03b4aa3499c5328201f1"
   }
  }
 },
 "nbformat": 4,
 "nbformat_minor": 2
}
