{
 "cells": [
  {
   "cell_type": "code",
   "execution_count": 23,
   "metadata": {},
   "outputs": [],
   "source": [
    "import random"
   ]
  },
  {
   "cell_type": "code",
   "execution_count": 3,
   "metadata": {},
   "outputs": [
    {
     "name": "stdout",
     "output_type": "stream",
     "text": [
      "Configuración final\n",
      "Tamaño de bloque texto plano:  64  bits\n",
      "Tamaño de llave:  64  bits\n",
      "Tamaño de sub-llave:  48  bits\n",
      "Cantidad de S-Cajas:  8\n",
      "Bits de salida S-Cajas:  4  bits\n"
     ]
    }
   ],
   "source": [
    "inputviable=0\n",
    "\n",
    "while inputviable==0: \n",
    "    bloquept = int(input('Ingrese el largo del bloque de texto plano: '))\n",
    "    tamaniollave = int(input('Ingrese el largo de la llave a utilizar: '))\n",
    "    tamaniosubllave = int(input('Ingrese el largo de la sub llave a utilizar'))\n",
    "    cantSbox = int(input('Ingrese cantidad de S-box a usar: '))\n",
    "    if (bloquept>=tamaniosubllave) and (tamaniollave>tamaniosubllave) and (cantSbox>0) and (tamaniosubllave>(bloquept/2) and ((bloquept/2)%cantSbox==0) and (tamaniosubllave%cantSbox==0)):\n",
    "        inputviable=1\n",
    "    else:\n",
    "        print('Los datos ingresados no tienen sentido para el algoritmo DES, ingrese nuevos datos')\n",
    "\n",
    "mediobloquept = int(bloquept/2)\n",
    "entradaSbox = int(tamaniosubllave/cantSbox)\n",
    "salidaSbox = int(mediobloquept/cantSbox)\n",
    "\n",
    "print('Configuración final')\n",
    "print('Tamaño de bloque texto plano: ', bloquept,' bits')\n",
    "print('Tamaño de llave: ', tamaniollave,' bits')\n",
    "print('Tamaño de sub-llave: ', tamaniosubllave,' bits')\n",
    "print('Cantidad de S-Cajas: ', cantSbox)\n",
    "print('Bits de entrada S-Cajas', entradaSbox, ' bits')\n",
    "print('Bits de salida S-Cajas: ', salidaSbox,' bits')\n"
   ]
  },
  {
   "cell_type": "code",
   "execution_count": 4,
   "metadata": {},
   "outputs": [],
   "source": [
    "\n",
    "# Genera tabla de permutación \n",
    "def generatePermTab(n):\n",
    "\ttable=[*range(1,n+1,1)]\n",
    "\tfor i in range(len(table)-1):\n",
    "\t\trandom_index = random.randint(0, (len(table)-1))\n",
    "\t\ttemp = table.pop(random_index)\n",
    "\t\ttable.append(temp)\n",
    "\treturn table\n",
    "\t\n",
    "# Genera tabla de expansion para el bloque que va a pasar por las s-box\n",
    "def generateExpTab(mediobloquept, tamaniosubllave):\n",
    "\tvalues= [*range(1,mediobloquept+1, 1)]\n",
    "\texp=[]\n",
    "\tfor i in range(tamaniosubllave):\n",
    "\t\texp.append(values[random.randint(0,(len(values)-1))])\n",
    "\treturn exp\n",
    "\n",
    "# Convierte texto plano a hex\n",
    "def pt2hex(s):\n",
    "\thex_s = s.encode('utf-8')\n",
    "\thex_s = hex_s.hex()\n",
    "\treturn hex_s.upper()\n",
    "\n",
    "# Conversión de hex a decimal\n",
    "def hex2bin(s):\n",
    "\tmp = {'0': \"0000\",\n",
    "\t\t'1': \"0001\",\n",
    "\t\t'2': \"0010\",\n",
    "\t\t'3': \"0011\",\n",
    "\t\t'4': \"0100\",\n",
    "\t\t'5': \"0101\",\n",
    "\t\t'6': \"0110\",\n",
    "\t\t'7': \"0111\",\n",
    "\t\t'8': \"1000\",\n",
    "\t\t'9': \"1001\",\n",
    "\t\t'A': \"1010\",\n",
    "\t\t'B': \"1011\",\n",
    "\t\t'C': \"1100\",\n",
    "\t\t'D': \"1101\",\n",
    "\t\t'E': \"1110\",\n",
    "\t\t'F': \"1111\"}\n",
    "\tbin = \"\"\n",
    "\tfor i in range(len(s)):\n",
    "\t\tbin = bin + mp[s[i]]\n",
    "\treturn bin\n",
    "\n",
    "# Convierte binario a hex\n",
    "def bin2hex(s):\n",
    "\tmp = {\"0000\": '0',\n",
    "\t\t\"0001\": '1',\n",
    "\t\t\"0010\": '2',\n",
    "\t\t\"0011\": '3',\n",
    "\t\t\"0100\": '4',\n",
    "\t\t\"0101\": '5',\n",
    "\t\t\"0110\": '6',\n",
    "\t\t\"0111\": '7',\n",
    "\t\t\"1000\": '8',\n",
    "\t\t\"1001\": '9',\n",
    "\t\t\"1010\": 'A',\n",
    "\t\t\"1011\": 'B',\n",
    "\t\t\"1100\": 'C',\n",
    "\t\t\"1101\": 'D',\n",
    "\t\t\"1110\": 'E',\n",
    "\t\t\"1111\": 'F'}\n",
    "\thex = \"\"\n",
    "\tfor i in range(0, len(s), 4):\n",
    "\t\tch = \"\"\n",
    "\t\tch = ch + s[i]\n",
    "\t\tch = ch + s[i + 1]\n",
    "\t\tch = ch + s[i + 2]\n",
    "\t\tch = ch + s[i + 3]\n",
    "\t\thex = hex + mp[ch]\n",
    "\n",
    "\treturn hex\n",
    "\n",
    "# Convierte binario a decimal\n",
    "def bin2dec(binary):\n",
    "\n",
    "\tbinary1 = binary\n",
    "\tdecimal, i, n = 0, 0, 0\n",
    "\twhile(binary != 0):\n",
    "\t\tdec = binary % 10\n",
    "\t\tdecimal = decimal + dec * pow(2, i)\n",
    "\t\tbinary = binary//10\n",
    "\t\ti += 1\n",
    "\treturn decimal\n",
    "\n",
    "# Convierte decimal a binario\n",
    "def dec2bin(num):\n",
    "\tres = bin(num).replace(\"0b\", \"\")\n",
    "\tif(len(res) % 4 != 0):\n",
    "\t\tdiv = len(res) / 4\n",
    "\t\tdiv = int(div)\n",
    "\t\tcounter = (4 * (div + 1)) - len(res)\n",
    "\t\tfor i in range(0, counter):\n",
    "\t\t\tres = '0' + res\n",
    "\treturn res\n",
    "\n",
    "# Realiza una permutación de bits segun alguna tabla de permutación o expansion, devuelve un string de n bits\n",
    "def permute(k, arr, n):\n",
    "\tpermutation = \"\"\n",
    "\tfor i in range(0, n):\n",
    "\t\tpermutation = permutation + k[arr[i] - 1]\n",
    "\treturn permutation\n",
    "\n",
    "# Realiza shift de n bits hacia la izquierda s\n",
    "def shift_left(k, nth_shifts):\n",
    "\ts = \"\"\n",
    "\tfor i in range(nth_shifts):\n",
    "\t\tfor j in range(1, len(k)):\n",
    "\t\t\ts = s + k[j]\n",
    "\t\ts = s + k[0]\n",
    "\t\tk = s\n",
    "\t\ts = \"\"\n",
    "\treturn k\n",
    "\n",
    "# calcula xor entre dos binarios a y b\n",
    "def xor(a, b):\n",
    "\tans = \"\"\n",
    "\tfor i in range(len(a)):\n",
    "\t\tif a[i] == b[i]:\n",
    "\t\t\tans = ans + \"0\"\n",
    "\t\telse:\n",
    "\t\t\tans = ans + \"1\"\n",
    "\treturn ans"
   ]
  },
  {
   "cell_type": "code",
   "execution_count": 5,
   "metadata": {},
   "outputs": [],
   "source": [
    "# Las s-cajas toman 6 bits y devuelven 4\n",
    "def sbox(sixbits):\n",
    "\treturn sixbits[:len(sixbits) - (len(sixbits)-salidaSbox)]"
   ]
  },
  {
   "cell_type": "code",
   "execution_count": 8,
   "metadata": {},
   "outputs": [
    {
     "name": "stdout",
     "output_type": "stream",
     "text": [
      "[2, 6, 7, 10, 11, 15, 20, 23, 25, 27, 29, 30, 35, 38, 39, 41, 42, 43, 45, 49, 50, 57, 58, 61, 63, 64, 12, 51, 16, 28, 32, 54, 4, 52, 48, 8, 37, 55, 24, 9, 22, 14, 18, 34, 36, 17, 56, 26, 31, 46, 3, 53, 62, 60, 19, 40, 1, 44, 5, 33, 21, 59, 13, 47]\n"
     ]
    }
   ],
   "source": [
    "# Genera la tabla de permutacion inicial\n",
    "initial_perm = generatePermTab(bloquept)\n",
    "print(initial_perm)"
   ]
  },
  {
   "cell_type": "code",
   "execution_count": 9,
   "metadata": {},
   "outputs": [
    {
     "name": "stdout",
     "output_type": "stream",
     "text": [
      "[5, 26, 24, 21, 32, 20, 17, 29, 26, 13, 31, 22, 8, 21, 27, 12, 5, 1, 19, 7, 24, 26, 28, 20, 31, 11, 28, 20, 6, 30, 24, 7, 19, 24, 1, 22, 19, 7, 9, 17, 8, 22, 27, 24, 12, 30, 10, 16]\n"
     ]
    }
   ],
   "source": [
    "# Genera tabla de expansion de bloque\n",
    "exp_d = generateExpTab(mediobloquept,tamaniosubllave)\n",
    "print(exp_d)"
   ]
  },
  {
   "cell_type": "code",
   "execution_count": 10,
   "metadata": {},
   "outputs": [
    {
     "name": "stdout",
     "output_type": "stream",
     "text": [
      "[4, 5, 7, 8, 10, 13, 15, 16, 17, 22, 24, 25, 27, 29, 30, 32, 3, 6, 11, 20, 1, 28, 19, 9, 31, 14, 26, 21, 2, 12, 23, 18]\n"
     ]
    }
   ],
   "source": [
    "# Genera tabla de permutacion directa\n",
    "per = generatePermTab(mediobloquept)\n",
    "print(per)"
   ]
  },
  {
   "cell_type": "code",
   "execution_count": 11,
   "metadata": {},
   "outputs": [
    {
     "name": "stdout",
     "output_type": "stream",
     "text": [
      "[10, 15, 20, 24, 25, 26, 29, 32, 35, 37, 40, 43, 46, 47, 49, 53, 54, 55, 59, 64, 6, 2, 7, 19, 1, 13, 31, 63, 5, 51, 3, 52, 56, 22, 11, 44, 30, 12, 18, 28, 57, 23, 36, 34, 17, 60, 62, 39, 8, 42, 21, 61, 27, 14, 48, 45, 4, 58, 50, 33, 9, 38, 41, 16]\n"
     ]
    }
   ],
   "source": [
    "# Genera tabla de permutacion final\n",
    "final_perm = generatePermTab(bloquept)\n",
    "print(final_perm)"
   ]
  },
  {
   "cell_type": "code",
   "execution_count": 20,
   "metadata": {},
   "outputs": [],
   "source": [
    "def encrypt(pt, rkb):\n",
    "\tprint('Texto plano en hex: ', pt)\n",
    "\tpt = hex2bin(pt)\n",
    "\tprint('Texto plano en binario:', pt)\n",
    "\n",
    "\t# Permutación inicial\n",
    "\tpt = permute(pt, initial_perm, bloquept)\n",
    "\tprint(\"Despues de la primera permutación: \", pt)\n",
    "\n",
    "\t# El bloque entero se separa en 2 partes, izquierda y derecha\n",
    "\tleft = pt[0:mediobloquept]\n",
    "\tright = pt[mediobloquept:bloquept]\n",
    "\tfor i in range(0, 16):\n",
    "\t\t# Se expande el medio bloque al tamaño de la sub llave\n",
    "\t\tright_expanded = permute(right, exp_d, tamaniosubllave)\n",
    "\n",
    "\t\t# XOR entre RoundKey[i] y el bloque derecho expandido\n",
    "\t\txor_x = xor(right_expanded, rkb[i])\n",
    "\n",
    "\t\t# El resultado del xor pasa por las s-cajas correspondientes\n",
    "\t\tsbox_str = \"\"\n",
    "\t\tfor j in range(0, cantSbox):\n",
    "\t\t\tsixbits=xor_x[j*6:(j*6)+6]\n",
    "\t\t\tsbox_str = sbox_str + sbox(sixbits)\n",
    "\t\t\n",
    "\t\t# Se realiza una permutacion adicional, la cual es directa\n",
    "\t\tsbox_str = permute(sbox_str, per, mediobloquept)\n",
    "\n",
    "\t\t# Se realiza un xor entre el medio bloque izquierdo y el resultado de las s-cajas\n",
    "\t\tresult = xor(left, sbox_str)\n",
    "\t\tleft = result\n",
    "\n",
    "\t\t# Se intercambia el lado izquierdo con el derecho\n",
    "\t\tif(i != 15):\n",
    "\t\t\tleft, right = right, left\n",
    "\t\tprint(\"Ronda \", i + 1, \" Bloque izquierdo: \", left,\n",
    "\t\t\t\" Bloque derecho: \", right, \" Sub-llave: \", rkb[i])\n",
    "\n",
    "\t# Se concatena izquierda + derecha\n",
    "\tcombine = left + right\n",
    "\n",
    "\t# Se realiza la permutacion final de bits\n",
    "\tcipher_text = permute(combine, final_perm, bloquept)\n",
    "\treturn cipher_text"
   ]
  },
  {
   "cell_type": "code",
   "execution_count": 17,
   "metadata": {},
   "outputs": [
    {
     "name": "stdout",
     "output_type": "stream",
     "text": [
      "Texto plano:  ASDFASDF\n",
      "Llave:  ASDFZXCV\n",
      "Entrada en hexadecimal:  4153444641534446\n",
      "Llave en hexadecimal:  415344465A584356\n"
     ]
    }
   ],
   "source": [
    "entrada = \"\"\n",
    "llave = \"\"\n",
    "\n",
    "while (len(entrada)*8)<bloquept:\n",
    "    entrada=input('Ingrese texto plano de al menos el tamaño del bloque elegido: ')\n",
    "\n",
    "while (len(llave)*8)<tamaniollave:\n",
    "    llave=input('Ingrese llave de al menos el tamaño elegido: ')\n",
    "\n",
    "pt = pt2hex(entrada)\n",
    "key = pt2hex(llave)\n",
    "\n",
    "print('Texto plano: ', entrada)\n",
    "print('Llave: ', llave)\n",
    "print('Entrada en hexadecimal: ', pt)\n",
    "print('Llave en hexadecimal: ', key)\n"
   ]
  },
  {
   "cell_type": "code",
   "execution_count": 18,
   "metadata": {},
   "outputs": [],
   "source": [
    "# Generación de sub-llaves\n",
    "# --llave de hexa a binario\n",
    "key = hex2bin(key)\n",
    "\n",
    "# Orden de shifts para generar las 16 sub-llaves distintas\n",
    "shift_table = [1, 1, 2, 2,\n",
    "\t\t\t2, 2, 2, 2,\n",
    "\t\t\t1, 2, 2, 2,\n",
    "\t\t\t2, 2, 2, 1]\n",
    "\n",
    "# Se genera tabla para comprimir las llaves\n",
    "key_comp = generatePermTab(tamaniosubllave)\n",
    "\n",
    "# Llave se divide en 2 partes\n",
    "left = key[0:int(tamaniollave/2)] \n",
    "right = key[int(tamaniollave/2):tamaniollave] \n",
    "\n",
    "rkb = [] # rkb para sub-llaves en binario\n",
    "\n",
    "\n",
    "# Se generan 16 sub llaves\n",
    "for i in range(0, 16):\n",
    "\t# Se realizan los shifts segun la tabla de arriba\n",
    "\tleft = shift_left(left, shift_table[i])\n",
    "\tright = shift_left(right, shift_table[i])\n",
    "\n",
    "\t# Se combinan ambas partes\n",
    "\tcombine_str = left + right\n",
    "\n",
    "\t# Se comprime la llave al tamaño de las sub-llaves elegido\n",
    "\tround_key = permute(combine_str, key_comp, tamaniosubllave)\n",
    "\t#Lista con 16 sub-llaves\n",
    "\trkb.append(round_key)"
   ]
  },
  {
   "cell_type": "code",
   "execution_count": 22,
   "metadata": {},
   "outputs": [
    {
     "name": "stdout",
     "output_type": "stream",
     "text": [
      "Cifrado\n",
      "Texto plano en hex:  4153444641534446\n",
      "Texto plano en binario: 0100000101010011010001000100011001000001010100110100010001000110\n",
      "Despues de la primera permutación:  1001010000010000100010101010100100110000101100011000100101000001\n",
      "Ronda  1  Bloque izquierdo:  00110000101100011000100101000001  Bloque derecho:  00111001011111000011111100100011  Sub-llave:  000000100000101100101001010110111001000010110001\n",
      "Ronda  2  Bloque izquierdo:  00111001011111000011111100100011  Bloque derecho:  00110110000111101101010111011101  Sub-llave:  011101010101111001000000010001001000101100000100\n",
      "Ronda  3  Bloque izquierdo:  00110110000111101101010111011101  Bloque derecho:  01101000110011110100100111100110  Sub-llave:  011010001010001000001010110010110000110010000010\n",
      "Ronda  4  Bloque izquierdo:  01101000110011110100100111100110  Bloque derecho:  00011101111101110011010110101001  Sub-llave:  110110010101000100010000000001010000010010110001\n",
      "Ronda  5  Bloque izquierdo:  00011101111101110011010110101001  Bloque derecho:  11000010011110000011111001010100  Sub-llave:  101100001010010101100000111000000000011101000100\n",
      "Ronda  6  Bloque izquierdo:  11000010011110000011111001010100  Bloque derecho:  10111001101111101101111101001110  Sub-llave:  111010010100011011000110000111000000101000000000\n",
      "Ronda  7  Bloque izquierdo:  10111001101111101101111101001110  Bloque derecho:  10011001000110011110001101100010  Sub-llave:  010100001001000001000010110010011010011010011000\n",
      "Ronda  8  Bloque izquierdo:  10011001000110011110001101100010  Bloque derecho:  11011100000010111011101011110100  Sub-llave:  101010010111000101001011000010000001010000010100\n",
      "Ronda  9  Bloque izquierdo:  11011100000010111011101011110100  Bloque derecho:  00100010000101001011111011111010  Sub-llave:  000000110000101011101001001000101010101000001011\n",
      "Ronda  10  Bloque izquierdo:  00100010000101001011111011111010  Bloque derecho:  00110010101110111100110001011001  Sub-llave:  000001000000000010011111010010011101000011100011\n",
      "Ronda  11  Bloque izquierdo:  00110010101110111100110001011001  Bloque derecho:  10011101011111101110111111000001  Sub-llave:  000010100001100100111000001100101100000101011001\n",
      "Ronda  12  Bloque izquierdo:  10011101011111101110111111000001  Bloque derecho:  01000110100011000111011010000110  Sub-llave:  000101000010111011011101001100000010000101100110\n",
      "Ronda  13  Bloque izquierdo:  01000110100011000111011010000110  Bloque derecho:  10001101100101110100101101110001  Sub-llave:  001000000000001011110010000101101111100110001011\n",
      "Ronda  14  Bloque izquierdo:  10001101100101110100101101110001  Bloque derecho:  10101110011001001111100000010000  Sub-llave:  010000100000101000001111100000011011000111110001\n",
      "Ronda  15  Bloque izquierdo:  10101110011001001111100000010000  Bloque derecho:  00010111111001000110011111110110  Sub-llave:  000001100100001100111000001100000101010011011110\n",
      "Ronda  16  Bloque izquierdo:  10010011010010110011001111100000  Bloque derecho:  00010111111001000110011111110110  Sub-llave:  110010010110011001001010110010011010100000001000\n",
      "Texto cifrado en hex:  FC38E3D480E7C8E7\n"
     ]
    }
   ],
   "source": [
    "print(\"Cifrado\")\n",
    "cipher_text = bin2hex(encrypt(pt, rkb))\n",
    "print(\"Texto cifrado en hex: \", cipher_text)"
   ]
  }
 ],
 "metadata": {
  "kernelspec": {
   "display_name": "Python 3.8.10 64-bit",
   "language": "python",
   "name": "python3"
  },
  "language_info": {
   "codemirror_mode": {
    "name": "ipython",
    "version": 3
   },
   "file_extension": ".py",
   "mimetype": "text/x-python",
   "name": "python",
   "nbconvert_exporter": "python",
   "pygments_lexer": "ipython3",
   "version": "3.8.10"
  },
  "orig_nbformat": 4,
  "vscode": {
   "interpreter": {
    "hash": "916dbcbb3f70747c44a77c7bcd40155683ae19c65e1c03b4aa3499c5328201f1"
   }
  }
 },
 "nbformat": 4,
 "nbformat_minor": 2
}
